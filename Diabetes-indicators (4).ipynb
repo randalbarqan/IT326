{
  "metadata": {
    "kernelspec": {
      "name": "python",
      "display_name": "Python (Pyodide)",
      "language": "python"
    },
    "language_info": {
      "codemirror_mode": {
        "name": "python",
        "version": 3
      },
      "file_extension": ".py",
      "mimetype": "text/x-python",
      "name": "python",
      "nbconvert_exporter": "python",
      "pygments_lexer": "ipython3",
      "version": "3.8"
    }
  },
  "nbformat_minor": 4,
  "nbformat": 4,
  "cells": [
    {
      "cell_type": "markdown",
      "source": "# Phase 1\n",
      "metadata": {}
    },
    {
      "cell_type": "markdown",
      "source": "## Goal :\n Our goal is to develop predictive models that can classify individuals at diabetes risk early on by addressing this health data, enabling timely interventions and improved health outcomes.\n",
      "metadata": {}
    },
    {
      "cell_type": "markdown",
      "source": "### Source:\n we use Kaggle to get our dataset it is a website that allows users to find datasets they want and publish datasets.\n \n Link: https://www.kaggle.com/datasets/alexteboul/diabetes-health-indicators-dataset",
      "metadata": {}
    },
    {
      "cell_type": "markdown",
      "source": "### Dataset information \n The Diabetes Health Indicators dataset was originally published in 2015 by Alex Teboul using BRFSS survey.\nThe dataset contains measurements of health indicators that affect the individual’s condition: no diabetes, prediabetes and diabetes.\n\nEach row in the dataset represents an Individual health indicator , These indicators (attribute) are :\n",
      "metadata": {}
    },
    {
      "cell_type": "code",
      "source": "dataDescription = {\n    ' Attributes name  ': ['Diabetes_012', 'HighBP', 'HighChol', 'CholCheck', 'BMI', 'Smoker', 'Stroke', 'HeartDiseaseorAttack',\n                'PhysActivity', 'Fruits', 'Veggies', 'AnyHealthcare', 'NoDocbcCost', 'GenHlth', 'DiffWalk', 'Sex',\n                'Age', 'Education'],\n    'Description': [' level of diabetes, 0 = no diabetes, 1 = prediabetes, 2 = diabetes',\n                    ' has high blood pressure,0 = no high BP, 1 = high BP',\n                    ' has high cholesterol, 0 = no high cholesterol, 1 = high cholesterol',\n                    ' has had a cholesterol check in the last 5 years, 0 = no cholesterol check in 5 years, 1 = yes cholesterol check in 5 years',\n                    ' Body Mass Index, a measure of body fat based on height and weight.',\n                    ' Indicates whether the individual has smoked at least 100 cigarettes in their lifetime,',\n                    ' has ever been told they had a stroke, 0 = no, 1 = yes',\n                    ' has coronary heart disease or has had a heart attack, 0 = no, 1 = yes where 0 means no and 1 means yes. ',\n                    ' engaged in physical activity in the past 30 days, excluding job-related activity,0 = no, 1 = yes',\n                    ' consumes fruit one or more times per day,0 = no, 1 = yes',\n                    ' consumes vegetables one or more times per day,0 = no, 1 = yes',\n                    ' has any kind of health care coverage, 0 = no, 1 = yes',\n                    ' had to forgo seeing a doctor in the past 12 months due to cost, 0 = no, 1 = yes',\n                    ' general health perception on a scale 1-5 (1 = excellent, 5 = poor)',\n                    ' has serious difficulty walking or climbing stairs, 0 = no, 1 = yes',\n                    ' sex, 0 = female, 1 = male',\n                    ' age category, typically divided into 13-level age category (1 = 18-24, 9 = 60-64, 13 = 80 or older)',\n                    ' Education level (EDUCA see codebook) scale 1-6 (1 = Never attended school or only kindergarten, 2 = Grades 1 through 8)',\n                    ],\n    'Data type': ['0,1,2', 'Binary', 'Binary', 'Binary', 'N/A', 'Binary', 'Binary', 'Binary', 'Binary', 'Binary', 'Binary', 'Binary', 'Binary',\n                    '1-5', 'Binary', 'Binary', '13 levels', '1-6']\n}\n\ndsf = pd.DataFrame(dataDescription)\ndisplay (dsf)",
      "metadata": {
        "trusted": true,
        "jupyter": {
          "source_hidden": true
        }
      },
      "outputs": [
        {
          "output_type": "display_data",
          "data": {
            "text/plain": "       Attributes name                                          Description  \\\n0           Diabetes_012   level of diabetes, 0 = no diabetes, 1 = predi...   \n1                 HighBP   has high blood pressure,0 = no high BP, 1 = h...   \n2               HighChol   has high cholesterol, 0 = no high cholesterol...   \n3              CholCheck   has had a cholesterol check in the last 5 yea...   \n4                    BMI   Body Mass Index, a measure of body fat based ...   \n5                 Smoker   Indicates whether the individual has smoked a...   \n6                 Stroke   has ever been told they had a stroke, 0 = no,...   \n7   HeartDiseaseorAttack   has coronary heart disease or has had a heart...   \n8           PhysActivity   engaged in physical activity in the past 30 d...   \n9                 Fruits   consumes fruit one or more times per day,0 = ...   \n10               Veggies   consumes vegetables one or more times per day...   \n11         AnyHealthcare   has any kind of health care coverage, 0 = no,...   \n12           NoDocbcCost   had to forgo seeing a doctor in the past 12 m...   \n13               GenHlth   general health perception on a scale 1-5 (1 =...   \n14              DiffWalk   has serious difficulty walking or climbing st...   \n15                   Sex                          sex, 0 = female, 1 = male   \n16                   Age   age category, typically divided into 13-level...   \n17             Education   Education level (EDUCA see codebook) scale 1-...   \n\n    Data type  \n0       0,1,2  \n1      Binary  \n2      Binary  \n3      Binary  \n4         N/A  \n5      Binary  \n6      Binary  \n7      Binary  \n8      Binary  \n9      Binary  \n10     Binary  \n11     Binary  \n12     Binary  \n13        1-5  \n14     Binary  \n15     Binary  \n16  13 levels  \n17        1-6  ",
            "text/html": "<div>\n<style scoped>\n    .dataframe tbody tr th:only-of-type {\n        vertical-align: middle;\n    }\n\n    .dataframe tbody tr th {\n        vertical-align: top;\n    }\n\n    .dataframe thead th {\n        text-align: right;\n    }\n</style>\n<table border=\"1\" class=\"dataframe\">\n  <thead>\n    <tr style=\"text-align: right;\">\n      <th></th>\n      <th>Attributes name</th>\n      <th>Description</th>\n      <th>Data type</th>\n    </tr>\n  </thead>\n  <tbody>\n    <tr>\n      <th>0</th>\n      <td>Diabetes_012</td>\n      <td>level of diabetes, 0 = no diabetes, 1 = predi...</td>\n      <td>0,1,2</td>\n    </tr>\n    <tr>\n      <th>1</th>\n      <td>HighBP</td>\n      <td>has high blood pressure,0 = no high BP, 1 = h...</td>\n      <td>Binary</td>\n    </tr>\n    <tr>\n      <th>2</th>\n      <td>HighChol</td>\n      <td>has high cholesterol, 0 = no high cholesterol...</td>\n      <td>Binary</td>\n    </tr>\n    <tr>\n      <th>3</th>\n      <td>CholCheck</td>\n      <td>has had a cholesterol check in the last 5 yea...</td>\n      <td>Binary</td>\n    </tr>\n    <tr>\n      <th>4</th>\n      <td>BMI</td>\n      <td>Body Mass Index, a measure of body fat based ...</td>\n      <td>N/A</td>\n    </tr>\n    <tr>\n      <th>5</th>\n      <td>Smoker</td>\n      <td>Indicates whether the individual has smoked a...</td>\n      <td>Binary</td>\n    </tr>\n    <tr>\n      <th>6</th>\n      <td>Stroke</td>\n      <td>has ever been told they had a stroke, 0 = no,...</td>\n      <td>Binary</td>\n    </tr>\n    <tr>\n      <th>7</th>\n      <td>HeartDiseaseorAttack</td>\n      <td>has coronary heart disease or has had a heart...</td>\n      <td>Binary</td>\n    </tr>\n    <tr>\n      <th>8</th>\n      <td>PhysActivity</td>\n      <td>engaged in physical activity in the past 30 d...</td>\n      <td>Binary</td>\n    </tr>\n    <tr>\n      <th>9</th>\n      <td>Fruits</td>\n      <td>consumes fruit one or more times per day,0 = ...</td>\n      <td>Binary</td>\n    </tr>\n    <tr>\n      <th>10</th>\n      <td>Veggies</td>\n      <td>consumes vegetables one or more times per day...</td>\n      <td>Binary</td>\n    </tr>\n    <tr>\n      <th>11</th>\n      <td>AnyHealthcare</td>\n      <td>has any kind of health care coverage, 0 = no,...</td>\n      <td>Binary</td>\n    </tr>\n    <tr>\n      <th>12</th>\n      <td>NoDocbcCost</td>\n      <td>had to forgo seeing a doctor in the past 12 m...</td>\n      <td>Binary</td>\n    </tr>\n    <tr>\n      <th>13</th>\n      <td>GenHlth</td>\n      <td>general health perception on a scale 1-5 (1 =...</td>\n      <td>1-5</td>\n    </tr>\n    <tr>\n      <th>14</th>\n      <td>DiffWalk</td>\n      <td>has serious difficulty walking or climbing st...</td>\n      <td>Binary</td>\n    </tr>\n    <tr>\n      <th>15</th>\n      <td>Sex</td>\n      <td>sex, 0 = female, 1 = male</td>\n      <td>Binary</td>\n    </tr>\n    <tr>\n      <th>16</th>\n      <td>Age</td>\n      <td>age category, typically divided into 13-level...</td>\n      <td>13 levels</td>\n    </tr>\n    <tr>\n      <th>17</th>\n      <td>Education</td>\n      <td>Education level (EDUCA see codebook) scale 1-...</td>\n      <td>1-6</td>\n    </tr>\n  </tbody>\n</table>\n</div>"
          },
          "metadata": {}
        }
      ],
      "execution_count": 2
    },
    {
      "cell_type": "code",
      "source": "# imports\n\nimport pandas as pd\n",
      "metadata": {
        "trusted": true
      },
      "outputs": [],
      "execution_count": 25
    },
    {
      "cell_type": "code",
      "source": "\ndata = pd.read_csv('diabetes_012_health_indicators_502Rows.csv')\ndf = pd.DataFrame(data)\ndisplay (df)",
      "metadata": {
        "trusted": true
      },
      "outputs": [
        {
          "output_type": "display_data",
          "data": {
            "text/plain": "     Diabetes_012  HighBP  HighChol  CholCheck  BMI  Smoker  Stroke  \\\n0               0       1         1          1   40       1       0   \n1               0       0         0          0   25       1       0   \n2               0       1         1          1   28       0       0   \n3               0       1         0          1   27       0       0   \n4               0       1         1          1   24       0       0   \n..            ...     ...       ...        ...  ...     ...     ...   \n496             2       0         1          1   31       0       0   \n497             2       1         0          1   40       0       0   \n498             2       1         1          1   23       0       0   \n499             2       1         0          1   34       0       0   \n500             2       1         0          1   40       1       0   \n\n     HeartDiseaseorAttack  PhysActivity  Fruits  Veggies  AnyHealthcare  \\\n0                       0             0       0        1              1   \n1                       0             1       0        0              0   \n2                       0             0       1        0              1   \n3                       0             1       1        1              1   \n4                       0             1       1        1              1   \n..                    ...           ...     ...      ...            ...   \n496                     0             1       0        0              1   \n497                     0             0       0        0              1   \n498                     1             1       1        1              1   \n499                     0             0       1        0              1   \n500                     0             1       1        1              1   \n\n     NoDocbcCost  GenHlth  DiffWalk  Sex  Age  Education  \n0              0        5         1    0    9          4  \n1              1        3         0    0    7          6  \n2              1        5         1    0    9          4  \n3              0        2         0    0   11          3  \n4              0        2         0    0   11          5  \n..           ...      ...       ...  ...  ...        ...  \n496            0        3         0    1   10          2  \n497            0        4         0    0    8          4  \n498            1        3         0    0    7          4  \n499            0        3         1    0   10          5  \n500            0        4         0    0    8          5  \n\n[501 rows x 18 columns]",
            "text/html": "<div>\n<style scoped>\n    .dataframe tbody tr th:only-of-type {\n        vertical-align: middle;\n    }\n\n    .dataframe tbody tr th {\n        vertical-align: top;\n    }\n\n    .dataframe thead th {\n        text-align: right;\n    }\n</style>\n<table border=\"1\" class=\"dataframe\">\n  <thead>\n    <tr style=\"text-align: right;\">\n      <th></th>\n      <th>Diabetes_012</th>\n      <th>HighBP</th>\n      <th>HighChol</th>\n      <th>CholCheck</th>\n      <th>BMI</th>\n      <th>Smoker</th>\n      <th>Stroke</th>\n      <th>HeartDiseaseorAttack</th>\n      <th>PhysActivity</th>\n      <th>Fruits</th>\n      <th>Veggies</th>\n      <th>AnyHealthcare</th>\n      <th>NoDocbcCost</th>\n      <th>GenHlth</th>\n      <th>DiffWalk</th>\n      <th>Sex</th>\n      <th>Age</th>\n      <th>Education</th>\n    </tr>\n  </thead>\n  <tbody>\n    <tr>\n      <th>0</th>\n      <td>0</td>\n      <td>1</td>\n      <td>1</td>\n      <td>1</td>\n      <td>40</td>\n      <td>1</td>\n      <td>0</td>\n      <td>0</td>\n      <td>0</td>\n      <td>0</td>\n      <td>1</td>\n      <td>1</td>\n      <td>0</td>\n      <td>5</td>\n      <td>1</td>\n      <td>0</td>\n      <td>9</td>\n      <td>4</td>\n    </tr>\n    <tr>\n      <th>1</th>\n      <td>0</td>\n      <td>0</td>\n      <td>0</td>\n      <td>0</td>\n      <td>25</td>\n      <td>1</td>\n      <td>0</td>\n      <td>0</td>\n      <td>1</td>\n      <td>0</td>\n      <td>0</td>\n      <td>0</td>\n      <td>1</td>\n      <td>3</td>\n      <td>0</td>\n      <td>0</td>\n      <td>7</td>\n      <td>6</td>\n    </tr>\n    <tr>\n      <th>2</th>\n      <td>0</td>\n      <td>1</td>\n      <td>1</td>\n      <td>1</td>\n      <td>28</td>\n      <td>0</td>\n      <td>0</td>\n      <td>0</td>\n      <td>0</td>\n      <td>1</td>\n      <td>0</td>\n      <td>1</td>\n      <td>1</td>\n      <td>5</td>\n      <td>1</td>\n      <td>0</td>\n      <td>9</td>\n      <td>4</td>\n    </tr>\n    <tr>\n      <th>3</th>\n      <td>0</td>\n      <td>1</td>\n      <td>0</td>\n      <td>1</td>\n      <td>27</td>\n      <td>0</td>\n      <td>0</td>\n      <td>0</td>\n      <td>1</td>\n      <td>1</td>\n      <td>1</td>\n      <td>1</td>\n      <td>0</td>\n      <td>2</td>\n      <td>0</td>\n      <td>0</td>\n      <td>11</td>\n      <td>3</td>\n    </tr>\n    <tr>\n      <th>4</th>\n      <td>0</td>\n      <td>1</td>\n      <td>1</td>\n      <td>1</td>\n      <td>24</td>\n      <td>0</td>\n      <td>0</td>\n      <td>0</td>\n      <td>1</td>\n      <td>1</td>\n      <td>1</td>\n      <td>1</td>\n      <td>0</td>\n      <td>2</td>\n      <td>0</td>\n      <td>0</td>\n      <td>11</td>\n      <td>5</td>\n    </tr>\n    <tr>\n      <th>...</th>\n      <td>...</td>\n      <td>...</td>\n      <td>...</td>\n      <td>...</td>\n      <td>...</td>\n      <td>...</td>\n      <td>...</td>\n      <td>...</td>\n      <td>...</td>\n      <td>...</td>\n      <td>...</td>\n      <td>...</td>\n      <td>...</td>\n      <td>...</td>\n      <td>...</td>\n      <td>...</td>\n      <td>...</td>\n      <td>...</td>\n    </tr>\n    <tr>\n      <th>496</th>\n      <td>2</td>\n      <td>0</td>\n      <td>1</td>\n      <td>1</td>\n      <td>31</td>\n      <td>0</td>\n      <td>0</td>\n      <td>0</td>\n      <td>1</td>\n      <td>0</td>\n      <td>0</td>\n      <td>1</td>\n      <td>0</td>\n      <td>3</td>\n      <td>0</td>\n      <td>1</td>\n      <td>10</td>\n      <td>2</td>\n    </tr>\n    <tr>\n      <th>497</th>\n      <td>2</td>\n      <td>1</td>\n      <td>0</td>\n      <td>1</td>\n      <td>40</td>\n      <td>0</td>\n      <td>0</td>\n      <td>0</td>\n      <td>0</td>\n      <td>0</td>\n      <td>0</td>\n      <td>1</td>\n      <td>0</td>\n      <td>4</td>\n      <td>0</td>\n      <td>0</td>\n      <td>8</td>\n      <td>4</td>\n    </tr>\n    <tr>\n      <th>498</th>\n      <td>2</td>\n      <td>1</td>\n      <td>1</td>\n      <td>1</td>\n      <td>23</td>\n      <td>0</td>\n      <td>0</td>\n      <td>1</td>\n      <td>1</td>\n      <td>1</td>\n      <td>1</td>\n      <td>1</td>\n      <td>1</td>\n      <td>3</td>\n      <td>0</td>\n      <td>0</td>\n      <td>7</td>\n      <td>4</td>\n    </tr>\n    <tr>\n      <th>499</th>\n      <td>2</td>\n      <td>1</td>\n      <td>0</td>\n      <td>1</td>\n      <td>34</td>\n      <td>0</td>\n      <td>0</td>\n      <td>0</td>\n      <td>0</td>\n      <td>1</td>\n      <td>0</td>\n      <td>1</td>\n      <td>0</td>\n      <td>3</td>\n      <td>1</td>\n      <td>0</td>\n      <td>10</td>\n      <td>5</td>\n    </tr>\n    <tr>\n      <th>500</th>\n      <td>2</td>\n      <td>1</td>\n      <td>0</td>\n      <td>1</td>\n      <td>40</td>\n      <td>1</td>\n      <td>0</td>\n      <td>0</td>\n      <td>1</td>\n      <td>1</td>\n      <td>1</td>\n      <td>1</td>\n      <td>0</td>\n      <td>4</td>\n      <td>0</td>\n      <td>0</td>\n      <td>8</td>\n      <td>5</td>\n    </tr>\n  </tbody>\n</table>\n<p>501 rows × 18 columns</p>\n</div>"
          },
          "metadata": {}
        }
      ],
      "execution_count": 6
    }
  ]
}