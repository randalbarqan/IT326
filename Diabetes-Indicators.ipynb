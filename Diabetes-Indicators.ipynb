{
  "metadata": {
    "kernelspec": {
      "name": "python",
      "display_name": "Python (Pyodide)",
      "language": "python"
    },
    "language_info": {
      "codemirror_mode": {
        "name": "python",
        "version": 3
      },
      "file_extension": ".py",
      "mimetype": "text/x-python",
      "name": "python",
      "nbconvert_exporter": "python",
      "pygments_lexer": "ipython3",
      "version": "3.8"
    }
  },
  "nbformat_minor": 4,
  "nbformat": 4,
  "cells": [
    {
      "cell_type": "markdown",
      "source": "### Goal :\n##### Our goal is to develop predictive models that can classify individuals at diabetes risk early on by addressing this health data, enabling timely interventions and improved health outcomes.\n",
      "metadata": {}
    },
    {
      "cell_type": "markdown",
      "source": "### Source:\n##### we use Kaggle to get our dataset it is a website that allows users to find datasets they want and publish datasets.\n##### Link: https://www.kaggle.com/datasets/alexteboul/diabetes-health-indicators-dataset",
      "metadata": {}
    },
    {
      "cell_type": "markdown",
      "source": "### Dataset information \n##### The Diabetes Health Indicators dataset was originally published in 2015 by Alex Teboul using BRFSS survey.\n##### The dataset contains measurements of health indicators that affect the individual’s condition: no diabetes, prediabetes and diabetes.\n##### Each row in the dataset represents an Individual health indicatoThese indicators (attribute) are : Diabetes_012 (target), HighBP, HighChol, CholCheck, BMI, Smoker, Stroke, HeartDiseaseorAttack, PhysActivity, Fruits, Veggies, AnyHealthcare, NoDocbcCost, GenHlth, DiffWalk, Sex, Age,Education.\n##### This dataset contains 500 rows (objects) and 18 columns (attributes) of type int64.",
      "metadata": {}
    },
    {
      "cell_type": "code",
      "source": "import pandas as pd \n\ndf = pd.read_csv('diabetes500Rows.csv')\ndf.info()\n",
      "metadata": {
        "trusted": true
      },
      "outputs": [
        {
          "name": "stdout",
          "text": "<class 'pandas.core.frame.DataFrame'>\nRangeIndex: 500 entries, 0 to 499\nData columns (total 18 columns):\n #   Column                Non-Null Count  Dtype\n---  ------                --------------  -----\n 0   Diabetes_012          500 non-null    int64\n 1   HighBP                500 non-null    int64\n 2   HighChol              500 non-null    int64\n 3   CholCheck             500 non-null    int64\n 4   BMI                   500 non-null    int64\n 5   Smoker                500 non-null    int64\n 6   Stroke                500 non-null    int64\n 7   HeartDiseaseorAttack  500 non-null    int64\n 8   PhysActivity          500 non-null    int64\n 9   Fruits                500 non-null    int64\n 10  Veggies               500 non-null    int64\n 11  AnyHealthcare         500 non-null    int64\n 12  NoDocbcCost           500 non-null    int64\n 13  GenHlth               500 non-null    int64\n 14  DiffWalk              500 non-null    int64\n 15  Sex                   500 non-null    int64\n 16  Age                   500 non-null    int64\n 17  Education             500 non-null    int64\ndtypes: int64(18)\nmemory usage: 70.4 KB\n",
          "output_type": "stream"
        }
      ],
      "execution_count": 2
    },
    {
      "cell_type": "code",
      "source": "",
      "metadata": {
        "trusted": true
      },
      "outputs": [],
      "execution_count": null
    }
  ]
}