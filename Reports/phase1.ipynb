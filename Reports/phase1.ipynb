{
  "metadata": {
    "kernelspec": {
      "name": "python",
      "display_name": "Python (Pyodide)",
      "language": "python"
    },
    "language_info": {
      "codemirror_mode": {
        "name": "python",
        "version": 3
      },
      "file_extension": ".py",
      "mimetype": "text/x-python",
      "name": "python",
      "nbconvert_exporter": "python",
      "pygments_lexer": "ipython3",
      "version": "3.8"
    }
  },
  "nbformat_minor": 4,
  "nbformat": 4,
  "cells": [
    {
      "cell_type": "markdown",
      "source": "# PRE-PROCESSING :",
      "metadata": {}
    },
    {
      "cell_type": "code",
      "source": "# imports\n\nimport pandas as pd\nfrom sklearn.tree import DecisionTreeClassifier\nfrom sklearn.model_selection import train_test_split \nfrom sklearn import metrics \nfrom sklearn.metrics import confusion_matrix \nfrom sklearn.metrics import ConfusionMatrixDisplay\nimport matplotlib.pyplot as plt\nfrom sklearn import tree \nfrom sklearn.preprocessing import MinMaxScaler\nimport numpy as np\n\nfrom scipy.stats import zscore\n",
      "metadata": {
        "trusted": true
      },
      "outputs": [],
      "execution_count": 2
    },
    {
      "cell_type": "code",
      "source": "data = pd.read_csv('diabetes_012_health_indicators_502Rows.csv')\ndf = pd.DataFrame(data)",
      "metadata": {
        "trusted": true
      },
      "outputs": [],
      "execution_count": 3
    },
    {
      "cell_type": "markdown",
      "source": "## Cleaning : Outlier\n\nWe detect outliers to find data points that are unusually far from the majority of the data, which could affect our analysis or predictions.\nThen we remove rows with outliers to ensure that they don't distort the analysis or affect the performance of our models, as outliers can skew statistical measures and predictions.",
      "metadata": {}
    },
    {
      "cell_type": "code",
      "source": "# Define the columns to detect outliers using z-scores\n\ncolumns_to_detect_outliers = ['BMI', 'Age', 'GenHlth','Education']\n\n# Calculate z-scores for the selected columns\nz_scores = df[columns_to_detect_outliers].apply(zscore)\n\n# Define a threshold value\nthreshold = 2\n\n# Identify outliers\noutliers = df[(abs(z_scores) > threshold).any(axis=1)]\n\nprint(\"Outliers based on z-scores for the selected columns: \\n\")\ndisplay(outliers)",
      "metadata": {
        "trusted": true
      },
      "outputs": [
        {
          "name": "stdout",
          "text": "Outliers based on z-scores for the selected columns: \n\n",
          "output_type": "stream"
        },
        {
          "output_type": "display_data",
          "data": {
            "text/plain": "     Diabetes_012  HighBP  HighChol  CholCheck  BMI  Smoker  Stroke  \\\n10              0       0         0          1   28       0       0   \n13              0       1         1          1   45       0       0   \n17              0       0         0          1   27       0       0   \n18              0       0         0          0   23       0       0   \n21              0       1         1          1   38       1       0   \n..            ...     ...       ...        ...  ...     ...     ...   \n479             2       1         0          1   23       1       0   \n481             2       1         1          1   24       1       1   \n490             2       1         1          1   47       1       0   \n495             2       1         0          1   33       0       0   \n496             2       0         1          1   31       0       0   \n\n     HeartDiseaseorAttack  PhysActivity  Fruits  Veggies  AnyHealthcare  \\\n10                      0             1       1        0              1   \n13                      0             0       1        1              1   \n17                      0             0       0        1              1   \n18                      0             0       0        1              1   \n21                      0             0       1        1              1   \n..                    ...           ...     ...      ...            ...   \n479                     0             1       1        1              1   \n481                     1             1       1        1              1   \n490                     0             0       1        0              1   \n495                     0             1       0        1              1   \n496                     0             1       0        0              1   \n\n     NoDocbcCost  GenHlth  DiffWalk  Sex  Age  Education  \n10             0        1         0    0    2          5  \n13             0        3         0    1    5          6  \n17             0        1         0    0    3          6  \n18             0        2         0    0    2          6  \n21             0        5         1    0   13          2  \n..           ...      ...       ...  ...  ...        ...  \n479            0        1         0    0    6          4  \n481            0        4         0    0   12          2  \n490            0        3         1    0   11          6  \n495            0        4         1    0   11          2  \n496            0        3         0    1   10          2  \n\n[126 rows x 18 columns]",
            "text/html": "<div>\n<style scoped>\n    .dataframe tbody tr th:only-of-type {\n        vertical-align: middle;\n    }\n\n    .dataframe tbody tr th {\n        vertical-align: top;\n    }\n\n    .dataframe thead th {\n        text-align: right;\n    }\n</style>\n<table border=\"1\" class=\"dataframe\">\n  <thead>\n    <tr style=\"text-align: right;\">\n      <th></th>\n      <th>Diabetes_012</th>\n      <th>HighBP</th>\n      <th>HighChol</th>\n      <th>CholCheck</th>\n      <th>BMI</th>\n      <th>Smoker</th>\n      <th>Stroke</th>\n      <th>HeartDiseaseorAttack</th>\n      <th>PhysActivity</th>\n      <th>Fruits</th>\n      <th>Veggies</th>\n      <th>AnyHealthcare</th>\n      <th>NoDocbcCost</th>\n      <th>GenHlth</th>\n      <th>DiffWalk</th>\n      <th>Sex</th>\n      <th>Age</th>\n      <th>Education</th>\n    </tr>\n  </thead>\n  <tbody>\n    <tr>\n      <th>10</th>\n      <td>0</td>\n      <td>0</td>\n      <td>0</td>\n      <td>1</td>\n      <td>28</td>\n      <td>0</td>\n      <td>0</td>\n      <td>0</td>\n      <td>1</td>\n      <td>1</td>\n      <td>0</td>\n      <td>1</td>\n      <td>0</td>\n      <td>1</td>\n      <td>0</td>\n      <td>0</td>\n      <td>2</td>\n      <td>5</td>\n    </tr>\n    <tr>\n      <th>13</th>\n      <td>0</td>\n      <td>1</td>\n      <td>1</td>\n      <td>1</td>\n      <td>45</td>\n      <td>0</td>\n      <td>0</td>\n      <td>0</td>\n      <td>0</td>\n      <td>1</td>\n      <td>1</td>\n      <td>1</td>\n      <td>0</td>\n      <td>3</td>\n      <td>0</td>\n      <td>1</td>\n      <td>5</td>\n      <td>6</td>\n    </tr>\n    <tr>\n      <th>17</th>\n      <td>0</td>\n      <td>0</td>\n      <td>0</td>\n      <td>1</td>\n      <td>27</td>\n      <td>0</td>\n      <td>0</td>\n      <td>0</td>\n      <td>0</td>\n      <td>0</td>\n      <td>1</td>\n      <td>1</td>\n      <td>0</td>\n      <td>1</td>\n      <td>0</td>\n      <td>0</td>\n      <td>3</td>\n      <td>6</td>\n    </tr>\n    <tr>\n      <th>18</th>\n      <td>0</td>\n      <td>0</td>\n      <td>0</td>\n      <td>0</td>\n      <td>23</td>\n      <td>0</td>\n      <td>0</td>\n      <td>0</td>\n      <td>0</td>\n      <td>0</td>\n      <td>1</td>\n      <td>1</td>\n      <td>0</td>\n      <td>2</td>\n      <td>0</td>\n      <td>0</td>\n      <td>2</td>\n      <td>6</td>\n    </tr>\n    <tr>\n      <th>21</th>\n      <td>0</td>\n      <td>1</td>\n      <td>1</td>\n      <td>1</td>\n      <td>38</td>\n      <td>1</td>\n      <td>0</td>\n      <td>0</td>\n      <td>0</td>\n      <td>1</td>\n      <td>1</td>\n      <td>1</td>\n      <td>0</td>\n      <td>5</td>\n      <td>1</td>\n      <td>0</td>\n      <td>13</td>\n      <td>2</td>\n    </tr>\n    <tr>\n      <th>...</th>\n      <td>...</td>\n      <td>...</td>\n      <td>...</td>\n      <td>...</td>\n      <td>...</td>\n      <td>...</td>\n      <td>...</td>\n      <td>...</td>\n      <td>...</td>\n      <td>...</td>\n      <td>...</td>\n      <td>...</td>\n      <td>...</td>\n      <td>...</td>\n      <td>...</td>\n      <td>...</td>\n      <td>...</td>\n      <td>...</td>\n    </tr>\n    <tr>\n      <th>479</th>\n      <td>2</td>\n      <td>1</td>\n      <td>0</td>\n      <td>1</td>\n      <td>23</td>\n      <td>1</td>\n      <td>0</td>\n      <td>0</td>\n      <td>1</td>\n      <td>1</td>\n      <td>1</td>\n      <td>1</td>\n      <td>0</td>\n      <td>1</td>\n      <td>0</td>\n      <td>0</td>\n      <td>6</td>\n      <td>4</td>\n    </tr>\n    <tr>\n      <th>481</th>\n      <td>2</td>\n      <td>1</td>\n      <td>1</td>\n      <td>1</td>\n      <td>24</td>\n      <td>1</td>\n      <td>1</td>\n      <td>1</td>\n      <td>1</td>\n      <td>1</td>\n      <td>1</td>\n      <td>1</td>\n      <td>0</td>\n      <td>4</td>\n      <td>0</td>\n      <td>0</td>\n      <td>12</td>\n      <td>2</td>\n    </tr>\n    <tr>\n      <th>490</th>\n      <td>2</td>\n      <td>1</td>\n      <td>1</td>\n      <td>1</td>\n      <td>47</td>\n      <td>1</td>\n      <td>0</td>\n      <td>0</td>\n      <td>0</td>\n      <td>1</td>\n      <td>0</td>\n      <td>1</td>\n      <td>0</td>\n      <td>3</td>\n      <td>1</td>\n      <td>0</td>\n      <td>11</td>\n      <td>6</td>\n    </tr>\n    <tr>\n      <th>495</th>\n      <td>2</td>\n      <td>1</td>\n      <td>0</td>\n      <td>1</td>\n      <td>33</td>\n      <td>0</td>\n      <td>0</td>\n      <td>0</td>\n      <td>1</td>\n      <td>0</td>\n      <td>1</td>\n      <td>1</td>\n      <td>0</td>\n      <td>4</td>\n      <td>1</td>\n      <td>0</td>\n      <td>11</td>\n      <td>2</td>\n    </tr>\n    <tr>\n      <th>496</th>\n      <td>2</td>\n      <td>0</td>\n      <td>1</td>\n      <td>1</td>\n      <td>31</td>\n      <td>0</td>\n      <td>0</td>\n      <td>0</td>\n      <td>1</td>\n      <td>0</td>\n      <td>0</td>\n      <td>1</td>\n      <td>0</td>\n      <td>3</td>\n      <td>0</td>\n      <td>1</td>\n      <td>10</td>\n      <td>2</td>\n    </tr>\n  </tbody>\n</table>\n<p>126 rows × 18 columns</p>\n</div>"
          },
          "metadata": {}
        }
      ],
      "execution_count": 4
    },
    {
      "cell_type": "code",
      "source": "#Remove the rows with outliers\ndf_no_outlier= df.drop(outliers.index)\n\n#count the removed rows\ndf_no_outlierRows=df_no_outlier.shape[0]\n\nprint(\"After removing outliers from the selected columns \\n \")\n\ndisplay(df_no_outlier.head(14))\n\nprint(\"\\nnumber of rows after remove outliers: \\n\"+ str(df_no_outlierRows) +\"\\n\")",
      "metadata": {
        "trusted": true
      },
      "outputs": [
        {
          "name": "stdout",
          "text": "After removing outliers from the selected columns \n \n",
          "output_type": "stream"
        },
        {
          "output_type": "display_data",
          "data": {
            "text/plain": "    Diabetes_012  HighBP  HighChol  CholCheck  BMI  Smoker  Stroke  \\\n0              0       1         1          1   40       1       0   \n1              0       0         0          0   25       1       0   \n2              0       1         1          1   28       0       0   \n3              0       1         0          1   27       0       0   \n4              0       1         1          1   24       0       0   \n5              0       1         1          1   25       1       0   \n6              0       1         0          1   30       1       0   \n7              0       1         1          1   25       1       0   \n8              0       1         0          1   23       0       0   \n9              0       0         0          1   24       0       0   \n11             0       1         1          1   34       1       0   \n12             0       0         0          1   26       1       0   \n14             0       0         1          1   33       1       1   \n15             0       1         0          1   33       0       0   \n\n    HeartDiseaseorAttack  PhysActivity  Fruits  Veggies  AnyHealthcare  \\\n0                      0             0       0        1              1   \n1                      0             1       0        0              0   \n2                      0             0       1        0              1   \n3                      0             1       1        1              1   \n4                      0             1       1        1              1   \n5                      0             1       1        1              1   \n6                      0             0       0        0              1   \n7                      0             1       0        1              1   \n8                      0             0       1        1              1   \n9                      0             0       0        1              1   \n11                     0             0       1        1              1   \n12                     0             0       0        1              1   \n14                     0             1       0        1              1   \n15                     0             1       0        0              1   \n\n    NoDocbcCost  GenHlth  DiffWalk  Sex  Age  Education  \n0             0        5         1    0    9          4  \n1             1        3         0    0    7          6  \n2             1        5         1    0    9          4  \n3             0        2         0    0   11          3  \n4             0        2         0    0   11          5  \n5             0        2         0    1   10          6  \n6             0        3         0    0    9          6  \n7             0        3         1    0   11          4  \n8             0        3         0    1    7          5  \n9             0        2         0    1    8          4  \n11            0        3         1    0   10          5  \n12            0        3         0    0    7          5  \n14            1        4         0    0    4          6  \n15            0        2         0    0    6          6  ",
            "text/html": "<div>\n<style scoped>\n    .dataframe tbody tr th:only-of-type {\n        vertical-align: middle;\n    }\n\n    .dataframe tbody tr th {\n        vertical-align: top;\n    }\n\n    .dataframe thead th {\n        text-align: right;\n    }\n</style>\n<table border=\"1\" class=\"dataframe\">\n  <thead>\n    <tr style=\"text-align: right;\">\n      <th></th>\n      <th>Diabetes_012</th>\n      <th>HighBP</th>\n      <th>HighChol</th>\n      <th>CholCheck</th>\n      <th>BMI</th>\n      <th>Smoker</th>\n      <th>Stroke</th>\n      <th>HeartDiseaseorAttack</th>\n      <th>PhysActivity</th>\n      <th>Fruits</th>\n      <th>Veggies</th>\n      <th>AnyHealthcare</th>\n      <th>NoDocbcCost</th>\n      <th>GenHlth</th>\n      <th>DiffWalk</th>\n      <th>Sex</th>\n      <th>Age</th>\n      <th>Education</th>\n    </tr>\n  </thead>\n  <tbody>\n    <tr>\n      <th>0</th>\n      <td>0</td>\n      <td>1</td>\n      <td>1</td>\n      <td>1</td>\n      <td>40</td>\n      <td>1</td>\n      <td>0</td>\n      <td>0</td>\n      <td>0</td>\n      <td>0</td>\n      <td>1</td>\n      <td>1</td>\n      <td>0</td>\n      <td>5</td>\n      <td>1</td>\n      <td>0</td>\n      <td>9</td>\n      <td>4</td>\n    </tr>\n    <tr>\n      <th>1</th>\n      <td>0</td>\n      <td>0</td>\n      <td>0</td>\n      <td>0</td>\n      <td>25</td>\n      <td>1</td>\n      <td>0</td>\n      <td>0</td>\n      <td>1</td>\n      <td>0</td>\n      <td>0</td>\n      <td>0</td>\n      <td>1</td>\n      <td>3</td>\n      <td>0</td>\n      <td>0</td>\n      <td>7</td>\n      <td>6</td>\n    </tr>\n    <tr>\n      <th>2</th>\n      <td>0</td>\n      <td>1</td>\n      <td>1</td>\n      <td>1</td>\n      <td>28</td>\n      <td>0</td>\n      <td>0</td>\n      <td>0</td>\n      <td>0</td>\n      <td>1</td>\n      <td>0</td>\n      <td>1</td>\n      <td>1</td>\n      <td>5</td>\n      <td>1</td>\n      <td>0</td>\n      <td>9</td>\n      <td>4</td>\n    </tr>\n    <tr>\n      <th>3</th>\n      <td>0</td>\n      <td>1</td>\n      <td>0</td>\n      <td>1</td>\n      <td>27</td>\n      <td>0</td>\n      <td>0</td>\n      <td>0</td>\n      <td>1</td>\n      <td>1</td>\n      <td>1</td>\n      <td>1</td>\n      <td>0</td>\n      <td>2</td>\n      <td>0</td>\n      <td>0</td>\n      <td>11</td>\n      <td>3</td>\n    </tr>\n    <tr>\n      <th>4</th>\n      <td>0</td>\n      <td>1</td>\n      <td>1</td>\n      <td>1</td>\n      <td>24</td>\n      <td>0</td>\n      <td>0</td>\n      <td>0</td>\n      <td>1</td>\n      <td>1</td>\n      <td>1</td>\n      <td>1</td>\n      <td>0</td>\n      <td>2</td>\n      <td>0</td>\n      <td>0</td>\n      <td>11</td>\n      <td>5</td>\n    </tr>\n    <tr>\n      <th>5</th>\n      <td>0</td>\n      <td>1</td>\n      <td>1</td>\n      <td>1</td>\n      <td>25</td>\n      <td>1</td>\n      <td>0</td>\n      <td>0</td>\n      <td>1</td>\n      <td>1</td>\n      <td>1</td>\n      <td>1</td>\n      <td>0</td>\n      <td>2</td>\n      <td>0</td>\n      <td>1</td>\n      <td>10</td>\n      <td>6</td>\n    </tr>\n    <tr>\n      <th>6</th>\n      <td>0</td>\n      <td>1</td>\n      <td>0</td>\n      <td>1</td>\n      <td>30</td>\n      <td>1</td>\n      <td>0</td>\n      <td>0</td>\n      <td>0</td>\n      <td>0</td>\n      <td>0</td>\n      <td>1</td>\n      <td>0</td>\n      <td>3</td>\n      <td>0</td>\n      <td>0</td>\n      <td>9</td>\n      <td>6</td>\n    </tr>\n    <tr>\n      <th>7</th>\n      <td>0</td>\n      <td>1</td>\n      <td>1</td>\n      <td>1</td>\n      <td>25</td>\n      <td>1</td>\n      <td>0</td>\n      <td>0</td>\n      <td>1</td>\n      <td>0</td>\n      <td>1</td>\n      <td>1</td>\n      <td>0</td>\n      <td>3</td>\n      <td>1</td>\n      <td>0</td>\n      <td>11</td>\n      <td>4</td>\n    </tr>\n    <tr>\n      <th>8</th>\n      <td>0</td>\n      <td>1</td>\n      <td>0</td>\n      <td>1</td>\n      <td>23</td>\n      <td>0</td>\n      <td>0</td>\n      <td>0</td>\n      <td>0</td>\n      <td>1</td>\n      <td>1</td>\n      <td>1</td>\n      <td>0</td>\n      <td>3</td>\n      <td>0</td>\n      <td>1</td>\n      <td>7</td>\n      <td>5</td>\n    </tr>\n    <tr>\n      <th>9</th>\n      <td>0</td>\n      <td>0</td>\n      <td>0</td>\n      <td>1</td>\n      <td>24</td>\n      <td>0</td>\n      <td>0</td>\n      <td>0</td>\n      <td>0</td>\n      <td>0</td>\n      <td>1</td>\n      <td>1</td>\n      <td>0</td>\n      <td>2</td>\n      <td>0</td>\n      <td>1</td>\n      <td>8</td>\n      <td>4</td>\n    </tr>\n    <tr>\n      <th>11</th>\n      <td>0</td>\n      <td>1</td>\n      <td>1</td>\n      <td>1</td>\n      <td>34</td>\n      <td>1</td>\n      <td>0</td>\n      <td>0</td>\n      <td>0</td>\n      <td>1</td>\n      <td>1</td>\n      <td>1</td>\n      <td>0</td>\n      <td>3</td>\n      <td>1</td>\n      <td>0</td>\n      <td>10</td>\n      <td>5</td>\n    </tr>\n    <tr>\n      <th>12</th>\n      <td>0</td>\n      <td>0</td>\n      <td>0</td>\n      <td>1</td>\n      <td>26</td>\n      <td>1</td>\n      <td>0</td>\n      <td>0</td>\n      <td>0</td>\n      <td>0</td>\n      <td>1</td>\n      <td>1</td>\n      <td>0</td>\n      <td>3</td>\n      <td>0</td>\n      <td>0</td>\n      <td>7</td>\n      <td>5</td>\n    </tr>\n    <tr>\n      <th>14</th>\n      <td>0</td>\n      <td>0</td>\n      <td>1</td>\n      <td>1</td>\n      <td>33</td>\n      <td>1</td>\n      <td>1</td>\n      <td>0</td>\n      <td>1</td>\n      <td>0</td>\n      <td>1</td>\n      <td>1</td>\n      <td>1</td>\n      <td>4</td>\n      <td>0</td>\n      <td>0</td>\n      <td>4</td>\n      <td>6</td>\n    </tr>\n    <tr>\n      <th>15</th>\n      <td>0</td>\n      <td>1</td>\n      <td>0</td>\n      <td>1</td>\n      <td>33</td>\n      <td>0</td>\n      <td>0</td>\n      <td>0</td>\n      <td>1</td>\n      <td>0</td>\n      <td>0</td>\n      <td>1</td>\n      <td>0</td>\n      <td>2</td>\n      <td>0</td>\n      <td>0</td>\n      <td>6</td>\n      <td>6</td>\n    </tr>\n  </tbody>\n</table>\n</div>"
          },
          "metadata": {}
        },
        {
          "name": "stdout",
          "text": "\nnumber of rows after remove outliers: \n375\n\n",
          "output_type": "stream"
        }
      ],
      "execution_count": 5
    },
    {
      "cell_type": "markdown",
      "source": "## Data Transformation: Discretization\n\nTo categorize the 'BMI' values into a smaller number of bins for easier interpretation and analysis, facilitating pattern recognition and comparison between different BMI ranges.",
      "metadata": {}
    },
    {
      "cell_type": "code",
      "source": "\ncolumns_to_Discretize='BMI'\n\nbinsN=6\n\ndf_no_outlier['Discretized_'+ columns_to_Discretize]= pd.cut(df_no_outlier[columns_to_Discretize], bins=binsN, labels=False)\ndisCol='Discretized_'+ columns_to_Discretize\n\n# Drop the original column 'BMI' and rename the discretized column\n\ndf_no_outlier.drop(columns_to_Discretize, axis=1, inplace=True)\ndf_no_outlier.rename(columns={columns_to_Discretize : disCol }, inplace=True)\n\n# Save the updated DataFrame to a new CSV file\nprint(\"Original Data:\\n\")\ndisplay(df[['BMI']].head())\n\nprint (\"\\nDiscretized Data:\\n\")\ndisplay(df_no_outlier[[disCol]].head())",
      "metadata": {
        "trusted": true
      },
      "outputs": [
        {
          "name": "stdout",
          "text": "Original Data:\n\n",
          "output_type": "stream"
        },
        {
          "output_type": "display_data",
          "data": {
            "text/plain": "   BMI\n0   40\n1   25\n2   28\n3   27\n4   24",
            "text/html": "<div>\n<style scoped>\n    .dataframe tbody tr th:only-of-type {\n        vertical-align: middle;\n    }\n\n    .dataframe tbody tr th {\n        vertical-align: top;\n    }\n\n    .dataframe thead th {\n        text-align: right;\n    }\n</style>\n<table border=\"1\" class=\"dataframe\">\n  <thead>\n    <tr style=\"text-align: right;\">\n      <th></th>\n      <th>BMI</th>\n    </tr>\n  </thead>\n  <tbody>\n    <tr>\n      <th>0</th>\n      <td>40</td>\n    </tr>\n    <tr>\n      <th>1</th>\n      <td>25</td>\n    </tr>\n    <tr>\n      <th>2</th>\n      <td>28</td>\n    </tr>\n    <tr>\n      <th>3</th>\n      <td>27</td>\n    </tr>\n    <tr>\n      <th>4</th>\n      <td>24</td>\n    </tr>\n  </tbody>\n</table>\n</div>"
          },
          "metadata": {}
        },
        {
          "name": "stdout",
          "text": "\nDiscretized Data:\n\n",
          "output_type": "stream"
        },
        {
          "output_type": "display_data",
          "data": {
            "text/plain": "   Discretized_BMI\n0                5\n1                1\n2                2\n3                2\n4                1",
            "text/html": "<div>\n<style scoped>\n    .dataframe tbody tr th:only-of-type {\n        vertical-align: middle;\n    }\n\n    .dataframe tbody tr th {\n        vertical-align: top;\n    }\n\n    .dataframe thead th {\n        text-align: right;\n    }\n</style>\n<table border=\"1\" class=\"dataframe\">\n  <thead>\n    <tr style=\"text-align: right;\">\n      <th></th>\n      <th>Discretized_BMI</th>\n    </tr>\n  </thead>\n  <tbody>\n    <tr>\n      <th>0</th>\n      <td>5</td>\n    </tr>\n    <tr>\n      <th>1</th>\n      <td>1</td>\n    </tr>\n    <tr>\n      <th>2</th>\n      <td>2</td>\n    </tr>\n    <tr>\n      <th>3</th>\n      <td>2</td>\n    </tr>\n    <tr>\n      <th>4</th>\n      <td>1</td>\n    </tr>\n  </tbody>\n</table>\n</div>"
          },
          "metadata": {}
        }
      ],
      "execution_count": 6
    },
    {
      "cell_type": "markdown",
      "source": "## Data Transformation: Normalization\n\nWe normalize columns to bring their values to a similar scale, making comparisons and analyses fairer and more accurate, especially for machine learning models that are sensitive to the scale of features.",
      "metadata": {}
    },
    {
      "cell_type": "code",
      "source": "\n#Extract columns to normalize\n\ncolumns_to_normalize = df_no_outlier.columns[1:]\ndata_to_normalize=df_no_outlier[columns_to_normalize]\n\n# Min-Max scaling for selected columns\nnormalized_data_minmax = MinMaxScaler().fit_transform(data_to_normalize)\n\n# Replace the normalized values in the original DataFrame\ndf_no_outlier[columns_to_normalize] = normalized_data_minmax\nprint (\"BMI column after normalize:  \\n \")\ndisplay (df_no_outlier[columns_to_normalize].head())",
      "metadata": {
        "trusted": true
      },
      "outputs": [
        {
          "name": "stdout",
          "text": "BMI column after normalize:  \n \n",
          "output_type": "stream"
        },
        {
          "output_type": "display_data",
          "data": {
            "text/plain": "   HighBP  HighChol  CholCheck  Smoker  Stroke  HeartDiseaseorAttack  \\\n0     1.0       1.0        1.0     1.0     0.0                   0.0   \n1     0.0       0.0        0.0     1.0     0.0                   0.0   \n2     1.0       1.0        1.0     0.0     0.0                   0.0   \n3     1.0       0.0        1.0     0.0     0.0                   0.0   \n4     1.0       1.0        1.0     0.0     0.0                   0.0   \n\n   PhysActivity  Fruits  Veggies  AnyHealthcare  NoDocbcCost   GenHlth  \\\n0           0.0     0.0      1.0            1.0          0.0  1.000000   \n1           1.0     0.0      0.0            0.0          1.0  0.333333   \n2           0.0     1.0      0.0            1.0          1.0  1.000000   \n3           1.0     1.0      1.0            1.0          0.0  0.000000   \n4           1.0     1.0      1.0            1.0          0.0  0.000000   \n\n   DiffWalk  Sex  Age  Education  Discretized_BMI  \n0       1.0  0.0  0.6   0.333333              1.0  \n1       0.0  0.0  0.4   1.000000              0.2  \n2       1.0  0.0  0.6   0.333333              0.4  \n3       0.0  0.0  0.8   0.000000              0.4  \n4       0.0  0.0  0.8   0.666667              0.2  ",
            "text/html": "<div>\n<style scoped>\n    .dataframe tbody tr th:only-of-type {\n        vertical-align: middle;\n    }\n\n    .dataframe tbody tr th {\n        vertical-align: top;\n    }\n\n    .dataframe thead th {\n        text-align: right;\n    }\n</style>\n<table border=\"1\" class=\"dataframe\">\n  <thead>\n    <tr style=\"text-align: right;\">\n      <th></th>\n      <th>HighBP</th>\n      <th>HighChol</th>\n      <th>CholCheck</th>\n      <th>Smoker</th>\n      <th>Stroke</th>\n      <th>HeartDiseaseorAttack</th>\n      <th>PhysActivity</th>\n      <th>Fruits</th>\n      <th>Veggies</th>\n      <th>AnyHealthcare</th>\n      <th>NoDocbcCost</th>\n      <th>GenHlth</th>\n      <th>DiffWalk</th>\n      <th>Sex</th>\n      <th>Age</th>\n      <th>Education</th>\n      <th>Discretized_BMI</th>\n    </tr>\n  </thead>\n  <tbody>\n    <tr>\n      <th>0</th>\n      <td>1.0</td>\n      <td>1.0</td>\n      <td>1.0</td>\n      <td>1.0</td>\n      <td>0.0</td>\n      <td>0.0</td>\n      <td>0.0</td>\n      <td>0.0</td>\n      <td>1.0</td>\n      <td>1.0</td>\n      <td>0.0</td>\n      <td>1.000000</td>\n      <td>1.0</td>\n      <td>0.0</td>\n      <td>0.6</td>\n      <td>0.333333</td>\n      <td>1.0</td>\n    </tr>\n    <tr>\n      <th>1</th>\n      <td>0.0</td>\n      <td>0.0</td>\n      <td>0.0</td>\n      <td>1.0</td>\n      <td>0.0</td>\n      <td>0.0</td>\n      <td>1.0</td>\n      <td>0.0</td>\n      <td>0.0</td>\n      <td>0.0</td>\n      <td>1.0</td>\n      <td>0.333333</td>\n      <td>0.0</td>\n      <td>0.0</td>\n      <td>0.4</td>\n      <td>1.000000</td>\n      <td>0.2</td>\n    </tr>\n    <tr>\n      <th>2</th>\n      <td>1.0</td>\n      <td>1.0</td>\n      <td>1.0</td>\n      <td>0.0</td>\n      <td>0.0</td>\n      <td>0.0</td>\n      <td>0.0</td>\n      <td>1.0</td>\n      <td>0.0</td>\n      <td>1.0</td>\n      <td>1.0</td>\n      <td>1.000000</td>\n      <td>1.0</td>\n      <td>0.0</td>\n      <td>0.6</td>\n      <td>0.333333</td>\n      <td>0.4</td>\n    </tr>\n    <tr>\n      <th>3</th>\n      <td>1.0</td>\n      <td>0.0</td>\n      <td>1.0</td>\n      <td>0.0</td>\n      <td>0.0</td>\n      <td>0.0</td>\n      <td>1.0</td>\n      <td>1.0</td>\n      <td>1.0</td>\n      <td>1.0</td>\n      <td>0.0</td>\n      <td>0.000000</td>\n      <td>0.0</td>\n      <td>0.0</td>\n      <td>0.8</td>\n      <td>0.000000</td>\n      <td>0.4</td>\n    </tr>\n    <tr>\n      <th>4</th>\n      <td>1.0</td>\n      <td>1.0</td>\n      <td>1.0</td>\n      <td>0.0</td>\n      <td>0.0</td>\n      <td>0.0</td>\n      <td>1.0</td>\n      <td>1.0</td>\n      <td>1.0</td>\n      <td>1.0</td>\n      <td>0.0</td>\n      <td>0.000000</td>\n      <td>0.0</td>\n      <td>0.0</td>\n      <td>0.8</td>\n      <td>0.666667</td>\n      <td>0.2</td>\n    </tr>\n  </tbody>\n</table>\n</div>"
          },
          "metadata": {}
        }
      ],
      "execution_count": 7
    },
    {
      "cell_type": "markdown",
      "source": "## Integration: Correlation \n\n Remove the highly correlated attributes to prevent multicollinearity issues and enhance the efficiency of predictive models by reducing redundancy in the dataset.\n",
      "metadata": {}
    },
    {
      "cell_type": "code",
      "source": "\n# Calculate the correlation matrix\ncorrelation_matrix = df_no_outlier.corr()\n\n# Adjust the correlation threshold based on the characteristics of the new dataset\ncorrelation_threshold = 0.75\n\n# Find highly correlated pairs and remove one of the attributes\nhighly_correlated_pairs = np.where(np.abs(correlation_matrix) >= correlation_threshold)\n\nattributes_to_remove = set()\n\nfor i, j in zip(*highly_correlated_pairs):\n    if i != j and i not in attributes_to_remove and j not in attributes_to_remove:\n        # Check if both attributes are not in the removal set\n        attribute_i = dfr.columns[i]\n        attribute_j = df.columns[j]\n        attributes_to_remove.add(attribute_j)\n\n# Remove the highly correlated attributes\ndfCorr = df_no_outlier.drop(columns=attributes_to_remove)\n\n\n\nif not df_no_outlier.equals(dfCorr):\n    print(\"Original DataFrame:\")\n    display(df_no_outlier)\n    print(\"\\nDataFrame after removing highly correlated attributes:\")\n    display(dfCorr)\nelse:\n     print (\"\\nno highly correlated attributes \\n\")",
      "metadata": {
        "trusted": true
      },
      "outputs": [
        {
          "name": "stdout",
          "text": "\nno highly correlated attributes \n\n",
          "output_type": "stream"
        }
      ],
      "execution_count": 8
    },
    {
      "cell_type": "markdown",
      "source": "## Feature Selection\n\nTo identify the most relevant features that have the highest correlation with the target variable, aiding in model performance improvement.",
      "metadata": {}
    },
    {
      "cell_type": "code",
      "source": " from sklearn.feature_selection import SelectKBest,f_classif\n\n# Feature selection Method: Correlation-based Feature Selection\n\n\ny = data.iloc[:, 0]  # Select the first column as the target variable\nX = data.iloc[:, 1:] # Select all columns except the first one as features\n\n# Use SelectKBest with f_classif as the scoring function\nselector = SelectKBest(score_func=f_classif, k=2)  # Select top 2 features\nX_new = selector.fit_transform(X, y)\n\n# Display the selected features\nselected_features = X.columns[selector.get_support()]\n\nprint(\"the features with the highest correlation with the target variable: \\nSelected Features:\", selected_features)\n\n",
      "metadata": {
        "trusted": true
      },
      "outputs": [
        {
          "name": "stdout",
          "text": "the features with the highest correlation with the target variable: \nSelected Features: Index(['HighBP', 'GenHlth'], dtype='object')\n",
          "output_type": "stream"
        }
      ],
      "execution_count": 11
    },
    {
      "cell_type": "code",
      "source": "#create new csv file with preprocessing\ndfCorr.to_csv('preprocessed_Diabetes.csv',index=False)",
      "metadata": {
        "trusted": true
      },
      "outputs": [],
      "execution_count": null
    },
    {
      "cell_type": "code",
      "source": "",
      "metadata": {
        "trusted": true
      },
      "outputs": [],
      "execution_count": null
    },
    {
      "cell_type": "code",
      "source": "",
      "metadata": {
        "trusted": true
      },
      "outputs": [],
      "execution_count": null
    },
    {
      "cell_type": "code",
      "source": "",
      "metadata": {
        "trusted": true
      },
      "outputs": [],
      "execution_count": null
    },
    {
      "cell_type": "code",
      "source": "",
      "metadata": {
        "trusted": true
      },
      "outputs": [],
      "execution_count": null
    },
    {
      "cell_type": "code",
      "source": "",
      "metadata": {
        "trusted": true
      },
      "outputs": [],
      "execution_count": null
    }
  ]
}